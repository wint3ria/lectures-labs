{
 "cells": [
  {
   "cell_type": "markdown",
   "metadata": {
    "collapsed": true
   },
   "source": [
    "# Training Neural Networks with Keras\n",
    "\n",
    "### Goals: \n",
    "- Intro: train a neural network with high level framework `Keras`\n",
    "\n",
    "### Dataset:\n",
    "- Digits: 10 class handwritten digits\n",
    "- http://scikit-learn.org/stable/modules/generated/sklearn.datasets.load_digits.html#sklearn.datasets.load_digits"
   ]
  },
  {
   "cell_type": "code",
   "execution_count": 19,
   "metadata": {},
   "outputs": [],
   "source": [
    "GPU=False\n",
    "CPU=True\n",
    "\n",
    "import tensorflow as tf\n",
    "from keras import backend as K\n",
    "\n",
    "num_cores = 4\n",
    "\n",
    "if GPU:\n",
    "    num_GPU = 1\n",
    "    num_CPU = 1\n",
    "if CPU:\n",
    "    num_CPU = 1\n",
    "    num_GPU = 0\n",
    "\n",
    "config = tf.ConfigProto(intra_op_parallelism_threads=num_cores,\\\n",
    "        inter_op_parallelism_threads=num_cores, allow_soft_placement=True,\\\n",
    "        device_count = {'CPU' : num_CPU, 'GPU' : num_GPU})\n",
    "session = tf.Session(config=config)\n",
    "K.set_session(session)"
   ]
  },
  {
   "cell_type": "code",
   "execution_count": 1,
   "metadata": {},
   "outputs": [],
   "source": [
    "%matplotlib inline \n",
    "# display figures in the notebook\n",
    "import matplotlib.pyplot as plt\n",
    "import numpy as np\n",
    "from sklearn.datasets import load_digits\n",
    "\n",
    "digits = load_digits()"
   ]
  },
  {
   "cell_type": "code",
   "execution_count": 2,
   "metadata": {},
   "outputs": [
    {
     "data": {
      "image/png": "[encoded data removed]",
      "text/plain": [
       "<matplotlib.figure.Figure at 0x7f6b45521588>"
      ]
     },
     "metadata": {},
     "output_type": "display_data"
    }
   ],
   "source": [
    "sample_index = 45\n",
    "plt.figure(figsize=(3, 3))\n",
    "plt.imshow(digits.images[sample_index], cmap=plt.cm.gray_r,\n",
    "           interpolation='nearest')\n",
    "plt.title(\"image label: %d\" % digits.target[sample_index]);"
   ]
  },
  {
   "cell_type": "markdown",
   "metadata": {},
   "source": [
    "### Preprocessing\n",
    "\n",
    "- normalization\n",
    "- train/test split"
   ]
  },
  {
   "cell_type": "code",
   "execution_count": 3,
   "metadata": {},
   "outputs": [],
   "source": [
    "from sklearn import preprocessing\n",
    "from sklearn.model_selection import train_test_split\n",
    "\n",
    "data = np.asarray(digits.data, dtype='float32')\n",
    "target = np.asarray(digits.target, dtype='int32')\n",
    "\n",
    "X_train, X_test, y_train, y_test = train_test_split(\n",
    "    data, target, test_size=0.15, random_state=37)\n",
    "\n",
    "# mean = 0 ; standard deviation = 1.0\n",
    "scaler = preprocessing.StandardScaler()\n",
    "X_train = scaler.fit_transform(X_train)\n",
    "X_test = scaler.transform(X_test)\n",
    "\n",
    "# print(scaler.mean_)\n",
    "# print(scaler.scale_)"
   ]
  },
  {
   "cell_type": "markdown",
   "metadata": {},
   "source": [
    "Let's display the one of the transformed sample (after feature standardization):"
   ]
  },
  {
   "cell_type": "code",
   "execution_count": 4,
   "metadata": {},
   "outputs": [
    {
     "data": {
      "image/png": "[encoded data removed]",
      "text/plain": [
       "<matplotlib.figure.Figure at 0x7f6b456e6c88>"
      ]
     },
     "metadata": {},
     "output_type": "display_data"
    }
   ],
   "source": [
    "sample_index = 45\n",
    "plt.figure(figsize=(3, 3))\n",
    "plt.imshow(X_train[sample_index].reshape(8, 8),\n",
    "           cmap=plt.cm.gray_r, interpolation='nearest')\n",
    "plt.title(\"transformed sample\\n(standardization)\");"
   ]
  },
  {
   "cell_type": "markdown",
   "metadata": {},
   "source": [
    "The scaler objects makes it possible to recover the original sample:"
   ]
  },
  {
   "cell_type": "code",
   "execution_count": 5,
   "metadata": {},
   "outputs": [
    {
     "data": {
      "image/png": "[encoded data removed]",
      "text/plain": [
       "<matplotlib.figure.Figure at 0x7f6b6c211cf8>"
      ]
     },
     "metadata": {},
     "output_type": "display_data"
    }
   ],
   "source": [
    "plt.figure(figsize=(3, 3))\n",
    "plt.imshow(scaler.inverse_transform(X_train[sample_index]).reshape(8, 8),\n",
    "           cmap=plt.cm.gray_r, interpolation='nearest')\n",
    "plt.title(\"original sample\");"
   ]
  },
  {
   "cell_type": "code",
   "execution_count": 6,
   "metadata": {},
   "outputs": [
    {
     "name": "stdout",
     "output_type": "stream",
     "text": [
      "(1527, 64) (1527,)\n"
     ]
    }
   ],
   "source": [
    "print(X_train.shape, y_train.shape)"
   ]
  },
  {
   "cell_type": "code",
   "execution_count": 7,
   "metadata": {},
   "outputs": [
    {
     "name": "stdout",
     "output_type": "stream",
     "text": [
      "(270, 64) (270,)\n"
     ]
    }
   ],
   "source": [
    "print(X_test.shape, y_test.shape)"
   ]
  },
  {
   "cell_type": "markdown",
   "metadata": {},
   "source": [
    "# I) Feed Forward NN with Keras\n",
    "\n",
    "Objectives of this section:\n",
    "\n",
    "- Build and train a first feedforward network using `Keras`\n",
    "    - https://keras.io/getting-started/sequential-model-guide/\n",
    "- Experiment with different optimizers, activations, size of layers, initializations\n",
    "\n",
    "### a) Keras Workflow"
   ]
  },
  {
   "cell_type": "markdown",
   "metadata": {},
   "source": [
    "To build a first neural network we need to turn the target variable into a vector \"one-hot-encoding\" representation. Here are the labels of the first samples in the training set encoded as integers:"
   ]
  },
  {
   "cell_type": "code",
   "execution_count": 8,
   "metadata": {},
   "outputs": [
    {
     "data": {
      "text/plain": [
       "array([2, 9, 5], dtype=int32)"
      ]
     },
     "execution_count": 8,
     "metadata": {},
     "output_type": "execute_result"
    }
   ],
   "source": [
    "y_train[:3]"
   ]
  },
  {
   "cell_type": "markdown",
   "metadata": {},
   "source": [
    "Keras provides a utility function to convert integer-encoded categorical variables as one-hot encoded values:"
   ]
  },
  {
   "cell_type": "code",
   "execution_count": 9,
   "metadata": {},
   "outputs": [
    {
     "name": "stderr",
     "output_type": "stream",
     "text": [
      "/home/nicolas/.anaconda3/lib/python3.6/site-packages/h5py/__init__.py:36: FutureWarning: Conversion of the second argument of issubdtype from `float` to `np.floating` is deprecated. In future, it will be treated as `np.float64 == np.dtype(float).type`.\n",
      "  from ._conv import register_converters as _register_converters\n",
      "Using TensorFlow backend.\n"
     ]
    },
    {
     "data": {
      "text/plain": [
       "array([[0., 0., 1., 0., 0., 0., 0., 0., 0., 0.],\n",
       "       [0., 0., 0., 0., 0., 0., 0., 0., 0., 1.],\n",
       "       [0., 0., 0., 0., 0., 1., 0., 0., 0., 0.]], dtype=float32)"
      ]
     },
     "execution_count": 9,
     "metadata": {},
     "output_type": "execute_result"
    }
   ],
   "source": [
    "import keras\n",
    "from keras.utils.np_utils import to_categorical\n",
    "\n",
    "Y_train = to_categorical(y_train)\n",
    "Y_train[:3]"
   ]
  },
  {
   "cell_type": "code",
   "execution_count": 17,
   "metadata": {},
   "outputs": [
    {
     "name": "stdout",
     "output_type": "stream",
     "text": [
      "[name: \"/device:CPU:0\"\n",
      "device_type: \"CPU\"\n",
      "memory_limit: 268435456\n",
      "locality {\n",
      "}\n",
      "incarnation: 6480367811286100594\n",
      ", name: \"/device:GPU:0\"\n",
      "device_type: \"GPU\"\n",
      "memory_limit: 197918720\n",
      "locality {\n",
      "  bus_id: 1\n",
      "  links {\n",
      "  }\n",
      "}\n",
      "incarnation: 15774834927683947557\n",
      "physical_device_desc: \"device: 0, name: GeForce GTX 780 Ti, pci bus id: 0000:01:00.0, compute capability: 3.5\"\n",
      "]\n"
     ]
    }
   ],
   "source": [
    "from tensorflow.python.client import device_lib\n",
    "print(device_lib.list_local_devices())"
   ]
  },
  {
   "cell_type": "markdown",
   "metadata": {},
   "source": [
    "We can now build an train a our first feed forward neural network using the high level API from keras:\n",
    "\n",
    "- first we define the model by stacking layers with the right dimensions\n",
    "- then we define a loss function and plug the SGD optimizer\n",
    "- then we feed the model the training data for fixed number of epochs"
   ]
  },
  {
   "cell_type": "code",
   "execution_count": 48,
   "metadata": {},
   "outputs": [
    {
     "name": "stdout",
     "output_type": "stream",
     "text": [
      "Epoch 1/15\n",
      "1527/1527 [==============================] - 0s 261us/step - loss: 0.8429 - acc: 0.7970\n",
      "Epoch 2/15\n",
      "1527/1527 [==============================] - 0s 23us/step - loss: 0.2890 - acc: 0.9417\n",
      "Epoch 3/15\n",
      "1527/1527 [==============================] - 0s 22us/step - loss: 0.1979 - acc: 0.9627\n",
      "Epoch 4/15\n",
      "1527/1527 [==============================] - 0s 23us/step - loss: 0.1539 - acc: 0.9712\n",
      "Epoch 5/15\n",
      "1527/1527 [==============================] - 0s 23us/step - loss: 0.1279 - acc: 0.9777\n",
      "Epoch 6/15\n",
      "1527/1527 [==============================] - 0s 23us/step - loss: 0.1096 - acc: 0.9804\n",
      "Epoch 7/15\n",
      "1527/1527 [==============================] - 0s 23us/step - loss: 0.0958 - acc: 0.9830\n",
      "Epoch 8/15\n",
      "1527/1527 [==============================] - 0s 22us/step - loss: 0.0850 - acc: 0.9843\n",
      "Epoch 9/15\n",
      "1527/1527 [==============================] - 0s 25us/step - loss: 0.0766 - acc: 0.9869\n",
      "Epoch 10/15\n",
      "1527/1527 [==============================] - 0s 22us/step - loss: 0.0693 - acc: 0.9869\n",
      "Epoch 11/15\n",
      "1527/1527 [==============================] - 0s 23us/step - loss: 0.0628 - acc: 0.9889\n",
      "Epoch 12/15\n",
      "1527/1527 [==============================] - 0s 24us/step - loss: 0.0580 - acc: 0.9915\n",
      "Epoch 13/15\n",
      "1527/1527 [==============================] - 0s 23us/step - loss: 0.0533 - acc: 0.9928\n",
      "Epoch 14/15\n",
      "1527/1527 [==============================] - 0s 23us/step - loss: 0.0496 - acc: 0.9941\n",
      "Epoch 15/15\n",
      "1527/1527 [==============================] - 0s 21us/step - loss: 0.0461 - acc: 0.9941\n"
     ]
    }
   ],
   "source": [
    "import tensorflow as tf\n",
    "from keras.models import Sequential\n",
    "from keras.layers.core import Dense, Activation\n",
    "from keras import optimizers\n",
    "\n",
    "N = X_train.shape[1]\n",
    "H = 100\n",
    "K = 10\n",
    "\n",
    "model = Sequential()\n",
    "model.add(Dense(H, input_dim=N))\n",
    "model.add(Activation(\"tanh\"))\n",
    "model.add(Dense(K))\n",
    "model.add(Activation(\"softmax\"))\n",
    "\n",
    "model.compile(optimizer=optimizers.SGD(lr=0.1),\n",
    "              loss='categorical_crossentropy', metrics=['accuracy'])\n",
    "\n",
    "Wsave = model.get_weights()\n",
    "\n",
    "model.fit(X_train, Y_train, epochs=15, batch_size=32);"
   ]
  },
  {
   "cell_type": "code",
   "execution_count": 44,
   "metadata": {},
   "outputs": [],
   "source": [
    "model.set_weights(Wsave)"
   ]
  },
  {
   "cell_type": "markdown",
   "metadata": {},
   "source": [
    "### b) Exercises: Impact of the Optimizer\n",
    "\n",
    "- Try to decrease the learning rate value by 10 or 100. What do you observe?\n",
    "\n",
    "- Try to increase the learning rate value to make the optimization diverge.\n",
    "\n",
    "- Configure the SGD optimizer to enable a Nesterov momentum of 0.9\n",
    "  \n",
    "Note that the keras API documentation is available at:\n",
    "\n",
    "https://keras.io/\n",
    "\n",
    "It is also possible to learn more about the parameters of a class by using the question mark: type and evaluate:\n",
    "\n",
    "```python\n",
    "optimizers.SGD?\n",
    "```\n",
    "\n",
    "in a jupyter notebook cell."
   ]
  },
  {
   "cell_type": "code",
   "execution_count": 46,
   "metadata": {},
   "outputs": [
    {
     "name": "stdout",
     "output_type": "stream",
     "text": [
      "Epoch 1/15\n",
      "1527/1527 [==============================] - 0s 249us/step - loss: 0.3348 - acc: 0.8978\n",
      "Epoch 2/15\n",
      "1527/1527 [==============================] - 0s 22us/step - loss: 0.0827 - acc: 0.9784\n",
      "Epoch 3/15\n",
      "1527/1527 [==============================] - 0s 22us/step - loss: 0.0442 - acc: 0.9915\n",
      "Epoch 4/15\n",
      "1527/1527 [==============================] - 0s 23us/step - loss: 0.0215 - acc: 0.9967\n",
      "Epoch 5/15\n",
      "1527/1527 [==============================] - 0s 24us/step - loss: 0.0133 - acc: 0.9987\n",
      "Epoch 6/15\n",
      "1527/1527 [==============================] - 0s 25us/step - loss: 0.0090 - acc: 1.0000\n",
      "Epoch 7/15\n",
      "1527/1527 [==============================] - 0s 23us/step - loss: 0.0070 - acc: 1.0000\n",
      "Epoch 8/15\n",
      "1527/1527 [==============================] - 0s 24us/step - loss: 0.0057 - acc: 1.0000\n",
      "Epoch 9/15\n",
      "1527/1527 [==============================] - 0s 23us/step - loss: 0.0048 - acc: 1.0000\n",
      "Epoch 10/15\n",
      "1527/1527 [==============================] - 0s 24us/step - loss: 0.0041 - acc: 1.0000\n",
      "Epoch 11/15\n",
      "1527/1527 [==============================] - 0s 23us/step - loss: 0.0037 - acc: 1.0000\n",
      "Epoch 12/15\n",
      "1527/1527 [==============================] - 0s 23us/step - loss: 0.0033 - acc: 1.0000\n",
      "Epoch 13/15\n",
      "1527/1527 [==============================] - 0s 24us/step - loss: 0.0030 - acc: 1.0000\n",
      "Epoch 14/15\n",
      "1527/1527 [==============================] - 0s 22us/step - loss: 0.0027 - acc: 1.0000\n",
      "Epoch 15/15\n",
      "1527/1527 [==============================] - 0s 22us/step - loss: 0.0025 - acc: 1.0000\n"
     ]
    }
   ],
   "source": [
    "model.set_weights(Wsave)\n",
    "\n",
    "model.compile(optimizer=optimizers.SGD(lr=1),\n",
    "              loss='categorical_crossentropy', metrics=['accuracy'])\n",
    "\n",
    "model.fit(X_train, Y_train, epochs=15, batch_size=32);"
   ]
  },
  {
   "cell_type": "markdown",
   "metadata": {},
   "source": [
    "The training does not work anymore, we fail to minimize the loss. The accuracy stays the same"
   ]
  },
  {
   "cell_type": "code",
   "execution_count": 47,
   "metadata": {},
   "outputs": [
    {
     "name": "stdout",
     "output_type": "stream",
     "text": [
      "Epoch 1/15\n",
      "1527/1527 [==============================] - 0s 259us/step - loss: 0.4012 - acc: 0.8723\n",
      "Epoch 2/15\n",
      "1527/1527 [==============================] - 0s 22us/step - loss: 0.0737 - acc: 0.9790\n",
      "Epoch 3/15\n",
      "1527/1527 [==============================] - 0s 22us/step - loss: 0.0302 - acc: 0.9935\n",
      "Epoch 4/15\n",
      "1527/1527 [==============================] - 0s 21us/step - loss: 0.0159 - acc: 0.9980\n",
      "Epoch 5/15\n",
      "1527/1527 [==============================] - 0s 22us/step - loss: 0.0104 - acc: 1.0000\n",
      "Epoch 6/15\n",
      "1527/1527 [==============================] - 0s 22us/step - loss: 0.0077 - acc: 1.0000\n",
      "Epoch 7/15\n",
      "1527/1527 [==============================] - 0s 21us/step - loss: 0.0060 - acc: 1.0000\n",
      "Epoch 8/15\n",
      "1527/1527 [==============================] - 0s 21us/step - loss: 0.0051 - acc: 1.0000\n",
      "Epoch 9/15\n",
      "1527/1527 [==============================] - 0s 22us/step - loss: 0.0043 - acc: 1.0000\n",
      "Epoch 10/15\n",
      "1527/1527 [==============================] - 0s 22us/step - loss: 0.0038 - acc: 1.0000\n",
      "Epoch 11/15\n",
      "1527/1527 [==============================] - 0s 21us/step - loss: 0.0034 - acc: 1.0000\n",
      "Epoch 12/15\n",
      "1527/1527 [==============================] - 0s 22us/step - loss: 0.0030 - acc: 1.0000\n",
      "Epoch 13/15\n",
      "1527/1527 [==============================] - 0s 22us/step - loss: 0.0028 - acc: 1.0000\n",
      "Epoch 14/15\n",
      "1527/1527 [==============================] - 0s 21us/step - loss: 0.0025 - acc: 1.0000\n",
      "Epoch 15/15\n",
      "1527/1527 [==============================] - 0s 21us/step - loss: 0.0024 - acc: 1.0000\n"
     ]
    }
   ],
   "source": [
    "model.set_weights(Wsave)\n",
    "\n",
    "model.compile(optimizer=optimizers.SGD(lr=0.1, momentum=0.9, nesterov=True),\n",
    "              loss='categorical_crossentropy', metrics=['accuracy'])\n",
    "\n",
    "model.fit(X_train, Y_train, epochs=15, batch_size=32);"
   ]
  },
  {
   "cell_type": "markdown",
   "metadata": {},
   "source": [
    "The Nesterov does not permit to improve the solution, just likje increasing the step."
   ]
  },
  {
   "cell_type": "code",
   "execution_count": 36,
   "metadata": {},
   "outputs": [
    {
     "name": "stdout",
     "output_type": "stream",
     "text": [
      "Epoch 1/15\n",
      "1527/1527 [==============================] - 0s 186us/step - loss: 0.3925 - acc: 0.8828\n",
      "Epoch 2/15\n",
      "1527/1527 [==============================] - 0s 22us/step - loss: 0.0737 - acc: 0.9830\n",
      "Epoch 3/15\n",
      "1527/1527 [==============================] - 0s 24us/step - loss: 0.0357 - acc: 0.9935\n",
      "Epoch 4/15\n",
      "1527/1527 [==============================] - 0s 22us/step - loss: 0.0195 - acc: 0.9974\n",
      "Epoch 5/15\n",
      "1527/1527 [==============================] - 0s 22us/step - loss: 0.0117 - acc: 0.9993\n",
      "Epoch 6/15\n",
      "1527/1527 [==============================] - 0s 22us/step - loss: 0.0077 - acc: 1.0000\n",
      "Epoch 7/15\n",
      "1527/1527 [==============================] - 0s 22us/step - loss: 0.0060 - acc: 1.0000\n",
      "Epoch 8/15\n",
      "1527/1527 [==============================] - 0s 22us/step - loss: 0.0048 - acc: 1.0000\n",
      "Epoch 9/15\n",
      "1527/1527 [==============================] - 0s 22us/step - loss: 0.0041 - acc: 1.0000\n",
      "Epoch 10/15\n",
      "1527/1527 [==============================] - 0s 21us/step - loss: 0.0037 - acc: 1.0000\n",
      "Epoch 11/15\n",
      "1527/1527 [==============================] - 0s 22us/step - loss: 0.0033 - acc: 1.0000\n",
      "Epoch 12/15\n",
      "1527/1527 [==============================] - 0s 25us/step - loss: 0.0030 - acc: 1.0000\n",
      "Epoch 13/15\n",
      "1527/1527 [==============================] - 0s 22us/step - loss: 0.0027 - acc: 1.0000\n",
      "Epoch 14/15\n",
      "1527/1527 [==============================] - 0s 22us/step - loss: 0.0025 - acc: 1.0000\n",
      "Epoch 15/15\n",
      "1527/1527 [==============================] - 0s 25us/step - loss: 0.0023 - acc: 1.0000\n"
     ]
    },
    {
     "data": {
      "text/plain": [
       "<keras.callbacks.History at 0x7f6aaa5cd6a0>"
      ]
     },
     "execution_count": 36,
     "metadata": {},
     "output_type": "execute_result"
    }
   ],
   "source": [
    "# %load solutions/keras_sgd_and_momentum.py\n",
    "model = Sequential()\n",
    "model.add(Dense(H, input_dim=N))\n",
    "model.add(Activation(\"tanh\"))\n",
    "model.add(Dense(K))\n",
    "model.add(Activation(\"softmax\"))\n",
    "\n",
    "optimizer = optimizers.SGD(lr=0.1, momentum=0.9, nesterov=True)\n",
    "model.compile(optimizer=optimizer, loss='categorical_crossentropy',\n",
    "              metrics=['accuracy'])\n",
    "model.fit(X_train, Y_train, epochs=15, batch_size=32)\n",
    "\n",
    "\n",
    "# Analysis:\n",
    "#\n",
    "# Setting the learning rate value to a small value (e.g. lr=0.001 on\n",
    "# this dataset) makes the model train much slower (it has not\n",
    "# converged yet after 15 epochs).\n",
    "#\n",
    "# Using momentum tends to mitigate the small learning rate / slow\n",
    "# training problem a bit.\n",
    "#\n",
    "# Setting the learning rate to a very large value (e.g. lr=10)\n",
    "# makes the model randomly bounce around a good local\n",
    "# minimum and therefore prevent it to reach a low training loss even\n",
    "# after 30 epochs.\n"
   ]
  },
  {
   "cell_type": "markdown",
   "metadata": {},
   "source": [
    "- Replace the SGD optimizer by the Adam optimizer from keras and run it\n",
    "  with the default parameters.\n",
    "\n",
    "- Add another hidden layer and use the \"Rectified Linear Unit\" for each\n",
    "  hidden layer. Can you still train the model with Adam with its default global\n",
    "  learning rate?\n",
    "\n",
    "- Bonus: try the Adadelta optimizer (no learning rate to set).\n",
    "\n",
    "Hint: use `optimizers.<TAB>` to tab-complete the list of implemented optimizers in Keras."
   ]
  },
  {
   "cell_type": "code",
   "execution_count": 50,
   "metadata": {},
   "outputs": [
    {
     "name": "stdout",
     "output_type": "stream",
     "text": [
      "Epoch 1/15\n",
      "1527/1527 [==============================] - 0s 325us/step - loss: 1.5164 - acc: 0.5737\n",
      "Epoch 2/15\n",
      "1527/1527 [==============================] - 0s 23us/step - loss: 0.5497 - acc: 0.8939\n",
      "Epoch 3/15\n",
      "1527/1527 [==============================] - 0s 24us/step - loss: 0.3381 - acc: 0.9339\n",
      "Epoch 4/15\n",
      "1527/1527 [==============================] - 0s 24us/step - loss: 0.2452 - acc: 0.9561\n",
      "Epoch 5/15\n",
      "1527/1527 [==============================] - 0s 24us/step - loss: 0.1930 - acc: 0.9614\n",
      "Epoch 6/15\n",
      "1527/1527 [==============================] - 0s 26us/step - loss: 0.1584 - acc: 0.9692\n",
      "Epoch 7/15\n",
      "1527/1527 [==============================] - 0s 24us/step - loss: 0.1336 - acc: 0.9771\n",
      "Epoch 8/15\n",
      "1527/1527 [==============================] - 0s 24us/step - loss: 0.1150 - acc: 0.9823\n",
      "Epoch 9/15\n",
      "1527/1527 [==============================] - 0s 24us/step - loss: 0.1008 - acc: 0.9823\n",
      "Epoch 10/15\n",
      "1527/1527 [==============================] - 0s 23us/step - loss: 0.0883 - acc: 0.9843\n",
      "Epoch 11/15\n",
      "1527/1527 [==============================] - 0s 25us/step - loss: 0.0778 - acc: 0.9882\n",
      "Epoch 12/15\n",
      "1527/1527 [==============================] - 0s 24us/step - loss: 0.0698 - acc: 0.9882\n",
      "Epoch 13/15\n",
      "1527/1527 [==============================] - 0s 26us/step - loss: 0.0628 - acc: 0.9915\n",
      "Epoch 14/15\n",
      "1527/1527 [==============================] - 0s 23us/step - loss: 0.0562 - acc: 0.9935\n",
      "Epoch 15/15\n",
      "1527/1527 [==============================] - 0s 24us/step - loss: 0.0512 - acc: 0.9941\n"
     ]
    },
    {
     "data": {
      "text/plain": [
       "<keras.callbacks.History at 0x7f6aa9ffa908>"
      ]
     },
     "execution_count": 50,
     "metadata": {},
     "output_type": "execute_result"
    }
   ],
   "source": [
    "model = Sequential()\n",
    "model.add(Dense(H, input_dim=N))\n",
    "model.add(Activation(\"tanh\"))\n",
    "model.add(Dense(K))\n",
    "model.add(Activation(\"softmax\"))\n",
    "\n",
    "optimizer = optimizers.Adam()\n",
    "model.compile(optimizer=optimizer, loss='categorical_crossentropy',\n",
    "              metrics=['accuracy'])\n",
    "\n",
    "model.fit(X_train, Y_train, epochs=15, batch_size=32)"
   ]
  },
  {
   "cell_type": "code",
   "execution_count": 52,
   "metadata": {},
   "outputs": [
    {
     "name": "stdout",
     "output_type": "stream",
     "text": [
      "Epoch 1/15\n",
      "1527/1527 [==============================] - 1s 352us/step - loss: 2.0819 - acc: 0.3209\n",
      "Epoch 2/15\n",
      "1527/1527 [==============================] - 0s 24us/step - loss: 1.3079 - acc: 0.6202\n",
      "Epoch 3/15\n",
      "1527/1527 [==============================] - 0s 24us/step - loss: 0.7983 - acc: 0.8140\n",
      "Epoch 4/15\n",
      "1527/1527 [==============================] - 0s 25us/step - loss: 0.4569 - acc: 0.9371\n",
      "Epoch 5/15\n",
      "1527/1527 [==============================] - 0s 25us/step - loss: 0.2655 - acc: 0.9594\n",
      "Epoch 6/15\n",
      "1527/1527 [==============================] - 0s 25us/step - loss: 0.1795 - acc: 0.9712\n",
      "Epoch 7/15\n",
      "1527/1527 [==============================] - 0s 24us/step - loss: 0.1326 - acc: 0.9797\n",
      "Epoch 8/15\n",
      "1527/1527 [==============================] - 0s 26us/step - loss: 0.1037 - acc: 0.9836\n",
      "Epoch 9/15\n",
      "1527/1527 [==============================] - 0s 24us/step - loss: 0.0833 - acc: 0.9862\n",
      "Epoch 10/15\n",
      "1527/1527 [==============================] - 0s 25us/step - loss: 0.0691 - acc: 0.9908\n",
      "Epoch 11/15\n",
      "1527/1527 [==============================] - 0s 25us/step - loss: 0.0577 - acc: 0.9915\n",
      "Epoch 12/15\n",
      "1527/1527 [==============================] - 0s 29us/step - loss: 0.0490 - acc: 0.9941\n",
      "Epoch 13/15\n",
      "1527/1527 [==============================] - 0s 31us/step - loss: 0.0414 - acc: 0.9948\n",
      "Epoch 14/15\n",
      "1527/1527 [==============================] - 0s 30us/step - loss: 0.0355 - acc: 0.9961\n",
      "Epoch 15/15\n",
      "1527/1527 [==============================] - 0s 29us/step - loss: 0.0306 - acc: 0.9967\n"
     ]
    },
    {
     "data": {
      "text/plain": [
       "<keras.callbacks.History at 0x7f6a6da88710>"
      ]
     },
     "execution_count": 52,
     "metadata": {},
     "output_type": "execute_result"
    }
   ],
   "source": [
    "model = Sequential()\n",
    "model.add(Dense(H, input_dim=N))\n",
    "model.add(Activation(\"relu\"))\n",
    "model.add(Dense(K))\n",
    "model.add(Activation(\"relu\"))\n",
    "model.add(Dense(K))\n",
    "model.add(Activation(\"softmax\"))\n",
    "\n",
    "optimizer = optimizers.Adam()\n",
    "model.compile(optimizer=optimizer, loss='categorical_crossentropy',\n",
    "              metrics=['accuracy'])\n",
    "\n",
    "model.fit(X_train, Y_train, epochs=15, batch_size=32)"
   ]
  },
  {
   "cell_type": "code",
   "execution_count": 54,
   "metadata": {},
   "outputs": [
    {
     "name": "stdout",
     "output_type": "stream",
     "text": [
      "Epoch 1/15\n",
      "1527/1527 [==============================] - 1s 355us/step - loss: 1.6610 - acc: 0.4846\n",
      "Epoch 2/15\n",
      "1527/1527 [==============================] - 0s 27us/step - loss: 0.7545 - acc: 0.8356\n",
      "Epoch 3/15\n",
      "1527/1527 [==============================] - 0s 26us/step - loss: 0.3678 - acc: 0.9325\n",
      "Epoch 4/15\n",
      "1527/1527 [==============================] - 0s 26us/step - loss: 0.2155 - acc: 0.9594\n",
      "Epoch 5/15\n",
      "1527/1527 [==============================] - 0s 26us/step - loss: 0.1482 - acc: 0.9718\n",
      "Epoch 6/15\n",
      "1527/1527 [==============================] - 0s 26us/step - loss: 0.1102 - acc: 0.9810\n",
      "Epoch 7/15\n",
      "1527/1527 [==============================] - 0s 26us/step - loss: 0.0872 - acc: 0.9856\n",
      "Epoch 8/15\n",
      "1527/1527 [==============================] - 0s 26us/step - loss: 0.0697 - acc: 0.9876\n",
      "Epoch 9/15\n",
      "1527/1527 [==============================] - 0s 27us/step - loss: 0.0563 - acc: 0.9908\n",
      "Epoch 10/15\n",
      "1527/1527 [==============================] - 0s 27us/step - loss: 0.0466 - acc: 0.9928\n",
      "Epoch 11/15\n",
      "1527/1527 [==============================] - 0s 26us/step - loss: 0.0387 - acc: 0.9935\n",
      "Epoch 12/15\n",
      "1527/1527 [==============================] - 0s 26us/step - loss: 0.0319 - acc: 0.9948\n",
      "Epoch 13/15\n",
      "1527/1527 [==============================] - 0s 29us/step - loss: 0.0271 - acc: 0.9974\n",
      "Epoch 14/15\n",
      "1527/1527 [==============================] - 0s 26us/step - loss: 0.0224 - acc: 0.9974\n",
      "Epoch 15/15\n",
      "1527/1527 [==============================] - 0s 27us/step - loss: 0.0190 - acc: 0.9980\n"
     ]
    },
    {
     "data": {
      "text/plain": [
       "<keras.callbacks.History at 0x7f6a6d6aeb38>"
      ]
     },
     "execution_count": 54,
     "metadata": {},
     "output_type": "execute_result"
    }
   ],
   "source": [
    "model = Sequential()\n",
    "model.add(Dense(H, input_dim=N))\n",
    "model.add(Activation(\"relu\"))\n",
    "model.add(Dense(K))\n",
    "model.add(Activation(\"relu\"))\n",
    "model.add(Dense(K))\n",
    "model.add(Activation(\"softmax\"))\n",
    "\n",
    "optimizer = optimizers.Adadelta()\n",
    "model.compile(optimizer=optimizer, loss='categorical_crossentropy',\n",
    "              metrics=['accuracy'])\n",
    "\n",
    "model.fit(X_train, Y_train, epochs=15, batch_size=32)"
   ]
  },
  {
   "cell_type": "code",
   "execution_count": null,
   "metadata": {},
   "outputs": [],
   "source": [
    "# %load solutions/keras_adam_and_adadelta.py\n",
    "model = Sequential()\n",
    "model.add(Dense(H, input_dim=N))\n",
    "model.add(Activation(\"relu\"))\n",
    "model.add(Dense(H))\n",
    "model.add(Activation(\"relu\"))\n",
    "model.add(Dense(K))\n",
    "model.add(Activation(\"softmax\"))\n",
    "model.compile(optimizer=\"adam\", loss='categorical_crossentropy',\n",
    "              metrics=['accuracy'])\n",
    "\n",
    "model.fit(X_train, Y_train, epochs=15, batch_size=32)\n",
    "\n",
    "# Analysis:\n",
    "#\n",
    "# Adam with its default global learning rate of 0.001 tends to work\n",
    "# in many settings often converge as fast or faster than SGD\n",
    "# with a well tuned learning rate.\n",
    "#\n",
    "# Adadelta has no learning rate setting at all\n",
    "#\n",
    "# References:\n",
    "#\n",
    "# Adadelta: https://arxiv.org/abs/1212.5701\n",
    "# Adam:     https://arxiv.org/abs/1412.6980\n"
   ]
  },
  {
   "cell_type": "markdown",
   "metadata": {},
   "source": [
    "### c) Exercises: forward pass and generalization\n",
    "\n",
    "- Compute predictions on test set using `model.predict_classes(...)`\n",
    "- Compute average accuracy of the model on the test set"
   ]
  },
  {
   "cell_type": "code",
   "execution_count": null,
   "metadata": {},
   "outputs": [],
   "source": []
  },
  {
   "cell_type": "code",
   "execution_count": 57,
   "metadata": {},
   "outputs": [
    {
     "name": "stdout",
     "output_type": "stream",
     "text": [
      "test acc: 0.9778\n"
     ]
    },
    {
     "data": {
      "image/png": "[encoded data removed]",
      "text/plain": [
       "<matplotlib.figure.Figure at 0x7f6a6d22f1d0>"
      ]
     },
     "metadata": {},
     "output_type": "display_data"
    }
   ],
   "source": [
    "# %load solutions/keras_accuracy_on_test_set.py\n",
    "y_predicted = model.predict_classes(X_test, verbose=0)\n",
    "\n",
    "# Let's display the first inputs image, the predicted labels and the true labels\n",
    "plt.figure(figsize=(12, 9))\n",
    "for i in range(15):\n",
    "    plt.subplot(3, 5, i + 1)\n",
    "    plt.imshow(scaler.inverse_transform(X_test[i]).reshape(8, 8),\n",
    "               cmap=plt.cm.gray_r, interpolation='nearest')\n",
    "    plt.title(\"predicted label: %d\\n true label: %d\"\n",
    "              % (y_predicted[i], y_test[i]))\n",
    "    \n",
    "print(\"test acc: %0.4f\" % np.mean(y_predicted == y_test))"
   ]
  },
  {
   "cell_type": "markdown",
   "metadata": {},
   "source": [
    "## d) Home assignment: impact of initialization\n",
    "\n",
    "Let us now study the impact of a bad initialization when training\n",
    "a deep feed forward network.\n",
    "\n",
    "By default Keras dense layers use the \"Glorot Uniform\" initialization\n",
    "strategy to initialize the weight matrices:\n",
    "\n",
    "- each weight coefficient is randomly sampled from [-scale, scale]\n",
    "- scale is proportional to $\\frac{1}{\\sqrt{n_{in} + n_{out}}}$\n",
    "\n",
    "This strategy is known to work well to initialize deep neural networks\n",
    "with \"tanh\" or \"relu\" activation functions and then trained with\n",
    "standard SGD.\n",
    "\n",
    "To assess the impact of initialization let us plug an alternative init\n",
    "scheme into a 2 hidden layers networks with \"tanh\" activations.\n",
    "For the sake of the example let's use normal distributed weights\n",
    "with a manually adjustable scale (standard deviation) and see the\n",
    "impact the scale value:"
   ]
  },
  {
   "cell_type": "code",
   "execution_count": 58,
   "metadata": {},
   "outputs": [
    {
     "name": "stdout",
     "output_type": "stream",
     "text": [
      "Epoch 1/10\n",
      "1527/1527 [==============================] - 1s 466us/step - loss: 2.3034\n",
      "Epoch 2/10\n",
      "1527/1527 [==============================] - 0s 22us/step - loss: 2.3027\n",
      "Epoch 3/10\n",
      "1527/1527 [==============================] - 0s 24us/step - loss: 2.3020\n",
      "Epoch 4/10\n",
      "1527/1527 [==============================] - 0s 23us/step - loss: 2.2989\n",
      "Epoch 5/10\n",
      "1527/1527 [==============================] - 0s 23us/step - loss: 2.2718\n",
      "Epoch 6/10\n",
      "1527/1527 [==============================] - 0s 23us/step - loss: 2.0182\n",
      "Epoch 7/10\n",
      "1527/1527 [==============================] - 0s 24us/step - loss: 1.7896\n",
      "Epoch 8/10\n",
      "1527/1527 [==============================] - 0s 25us/step - loss: 1.5772\n",
      "Epoch 9/10\n",
      "1527/1527 [==============================] - 0s 25us/step - loss: 1.2358\n",
      "Epoch 10/10\n",
      "1527/1527 [==============================] - 0s 23us/step - loss: 1.0010\n"
     ]
    }
   ],
   "source": [
    "from keras import initializers\n",
    "\n",
    "normal_init = initializers.RandomNormal(stddev=0.01)\n",
    "\n",
    "model = Sequential()\n",
    "model.add(Dense(H, input_dim=N, kernel_initializer=normal_init))\n",
    "model.add(Activation(\"tanh\"))\n",
    "model.add(Dense(K, kernel_initializer=normal_init))\n",
    "model.add(Activation(\"tanh\"))\n",
    "model.add(Dense(K, kernel_initializer=normal_init))\n",
    "model.add(Activation(\"softmax\"))\n",
    "\n",
    "model.compile(optimizer=optimizers.SGD(lr=0.1),\n",
    "              loss='categorical_crossentropy')\n",
    "\n",
    "history = model.fit(X_train, Y_train,\n",
    "                    epochs=10, batch_size=32)"
   ]
  },
  {
   "cell_type": "markdown",
   "metadata": {},
   "source": [
    "#### Questions:\n",
    "\n",
    "- Try the following initialization schemes and see whether\n",
    "  the SGD algorithm can successfully train the network or\n",
    "  not:\n",
    "  \n",
    "  - a very small e.g. `scale=1e-3`\n",
    "  - a larger scale e.g. `scale=1` or `10`\n",
    "  - initialize all weights to 0 (constant initialization)\n",
    "  \n",
    "- What do you observe? Can you find an explanation for those\n",
    "  outcomes?\n",
    "\n",
    "- Are better solvers such as SGD with momentum or Adam able\n",
    "  to deal better with such bad initializations?"
   ]
  },
  {
   "cell_type": "code",
   "execution_count": 60,
   "metadata": {},
   "outputs": [
    {
     "data": {
      "image/png": "[encoded data removed]",
      "text/plain": [
       "<matplotlib.figure.Figure at 0x7f6a6cec95c0>"
      ]
     },
     "metadata": {},
     "output_type": "display_data"
    },
    {
     "data": {
      "image/png": "[encoded data removed]",
      "text/plain": [
       "<matplotlib.figure.Figure at 0x7f6a6c7acdd8>"
      ]
     },
     "metadata": {},
     "output_type": "display_data"
    }
   ],
   "source": [
    "# %load solutions/keras_initializations.py\n",
    "large_scale_init = initializers.RandomNormal(stddev=1)\n",
    "small_scale_init = initializers.RandomNormal(stddev=1e-3)\n",
    "\n",
    "\n",
    "optimizer_list = [\n",
    "    ('SGD', optimizers.SGD(lr=0.1)),\n",
    "    ('Adam', optimizers.Adam()),\n",
    "#     ('SGD + Nesterov momentum', optimizers.SGD(\n",
    "#             lr=0.1, momentum=0.9,nesterov=True)),\n",
    "]\n",
    "\n",
    "init_list = [\n",
    "    ('glorot uniform init', 'glorot_uniform', '-'),\n",
    "    ('small init scale', small_scale_init, '-'),\n",
    "    ('large init scale', large_scale_init, '-'),\n",
    "    ('zero init', 'zero', '--'),\n",
    "]\n",
    "\n",
    "\n",
    "for optimizer_name, optimizer in optimizer_list:\n",
    "    plt.figure(figsize=(12, 6))\n",
    "    for init_name, init, linestyle in init_list:\n",
    "        model = Sequential()\n",
    "        model.add(Dense(H, input_dim=N, kernel_initializer=init))\n",
    "        model.add(Activation(\"tanh\"))\n",
    "        model.add(Dense(K, kernel_initializer=init))\n",
    "        model.add(Activation(\"tanh\"))\n",
    "        model.add(Dense(K, kernel_initializer=init))\n",
    "        model.add(Activation(\"softmax\"))\n",
    "\n",
    "        model.compile(optimizer=optimizer,\n",
    "                      loss='categorical_crossentropy')\n",
    "\n",
    "        history = model.fit(X_train, Y_train,\n",
    "                            epochs=10, batch_size=32, verbose=0)\n",
    "        plt.plot(history.history['loss'], linestyle=linestyle,\n",
    "                 label=init_name)\n",
    "\n",
    "    plt.xlabel('# epochs')\n",
    "    plt.ylabel('Training loss')\n",
    "    plt.ylim(0, 6)\n",
    "    plt.legend(loc='best');\n",
    "    plt.title('Impact of initialization on convergence with %s'\n",
    "              % optimizer_name)"
   ]
  },
  {
   "cell_type": "code",
   "execution_count": null,
   "metadata": {},
   "outputs": [],
   "source": [
    "# %load solutions/keras_initializations_analysis.py\n",
    "# Analysis\n",
    "#\n",
    "# If the network is initialized to zero weights, the activations of the hidden\n",
    "# layers are always set to zero, whatever the value of the inputs. The gradient\n",
    "# is always zero for all training samples and no learning can happen with any\n",
    "# gradient-based optimizer (SGD, Adam...): the loss stays constant.\n",
    "#\n",
    "# A network with null weights has null gradients but this not a local minimum\n",
    "# (nor a local maximum): it is a saddle point at the center of a neighborhood\n",
    "# with very low gradients. \n",
    "#\n",
    "# Therefore when the scale of a random initializations of the weights is too\n",
    "# small, SGD has a hard time evading that area of low gradients. Adding\n",
    "# momentum can help but especially for deep networks it can take many epochs to\n",
    "# evade the area.\n",
    "#\n",
    "# Initializing the weights with large random values will make the output\n",
    "# distribution (softmax) very peaky: the network is very \"confident\" of its\n",
    "# predictions even if they are completely random. This leads to a very high\n",
    "# initial loss value.\n",
    "#\n",
    "# The softmax function does not saturate (bad classification always have a\n",
    "# non-zero gradient). However the intermediate tanh layers can saturate,\n",
    "# therefore squashing the gradients and making the network train much slower. \n",
    "#\n",
    "# The Glorot uniform init uses a scale that depends on the dimensions of the\n",
    "# weigh matrix so has to preserve the average norm of activations and flowing\n",
    "# gradients so as to make learning possible. Keras provides alternatives that\n",
    "# can be better in some cases. Please refer to the references in the Keras\n",
    "# documentation to learn more on the theoretical justifications behind those\n",
    "# schemes.\n",
    "#\n",
    "# Adam tends to be more robust when it comes to bad initialization thanks to\n",
    "# its per-weight learning rate adjustments but still benefits from a good\n",
    "# initialization.\n",
    "#\n",
    "# More on this in a later class on optimization issues. For now  just remember\n",
    "# that if you network fails to learn at all (the loss stays at its initial\n",
    "# value):\n",
    "#\n",
    "# - ensure that the weights are properly initialized,\n",
    "# - inspect the per-layer gradient norms to help identify the bad layer,\n",
    "# - use Adam instead of SGD as your default go to initializer.\n"
   ]
  },
  {
   "cell_type": "code",
   "execution_count": null,
   "metadata": {},
   "outputs": [],
   "source": []
  }
 ],
 "metadata": {
  "kernelspec": {
   "display_name": "Python 3",
   "language": "python",
   "name": "python3"
  },
  "language_info": {
   "codemirror_mode": {
    "name": "ipython",
    "version": 3
   },
   "file_extension": ".py",
   "mimetype": "text/x-python",
   "name": "python",
   "nbconvert_exporter": "python",
   "pygments_lexer": "ipython3",
   "version": "3.6.4"
  }
 },
 "nbformat": 4,
 "nbformat_minor": 1
}
